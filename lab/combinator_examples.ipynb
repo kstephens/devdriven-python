{
 "cells": [
  {
   "cell_type": "markdown",
   "metadata": {},
   "source": [
    "# Combinators\n",
    "\n",
    "Combinators:\n",
    "\n",
    "* are functions that construct functions from other functions.\n",
    "* provides a powerful mechanism for reusing logic...\n",
    "  without having to anticpate the future."
   ]
  },
  {
   "cell_type": "code",
   "execution_count": 140,
   "metadata": {},
   "outputs": [],
   "source": [
    "\n",
    "from typing import Any, Optional, Union, List, Tuple, Dict, Mapping, Callable, Type, Literal\n",
    "from numbers import Number\n",
    "from collections.abc import Collection, Sequence\n",
    "from dataclasses import dataclass, field\n",
    "import re\n",
    "import sys\n",
    "import logging\n",
    "from pprint import pformat\n",
    "import dis\n",
    "from icecream import ic\n",
    "\n",
    "logging.basicConfig(stream=sys.stderr, level=logging.DEBUG)\n",
    "\n",
    "# https://stackoverflow.com/a/47024809/1141958\n",
    "from IPython.core.interactiveshell import InteractiveShell\n",
    "InteractiveShell.ast_node_interactivity = \"all\""
   ]
  },
  {
   "cell_type": "code",
   "execution_count": 141,
   "metadata": {},
   "outputs": [
    {
     "data": {
      "text/plain": [
       "2"
      ]
     },
     "execution_count": 141,
     "metadata": {},
     "output_type": "execute_result"
    },
    {
     "data": {
      "text/plain": [
       "<function __main__.identity(x: Any) -> Any>"
      ]
     },
     "execution_count": 141,
     "metadata": {},
     "output_type": "execute_result"
    },
    {
     "data": {
      "text/plain": [
       "3"
      ]
     },
     "execution_count": 141,
     "metadata": {},
     "output_type": "execute_result"
    }
   ],
   "source": [
    "def identity(x: Any) -> Any:\n",
    "  'Returns the first argument.'\n",
    "  return x\n",
    "\n",
    "identity(2)\n",
    "f = identity\n",
    "f\n",
    "f(3)"
   ]
  },
  {
   "cell_type": "code",
   "execution_count": 142,
   "metadata": {},
   "outputs": [
    {
     "data": {
      "text/plain": [
       "<function __main__.plus_three(x)>"
      ]
     },
     "execution_count": 142,
     "metadata": {},
     "output_type": "execute_result"
    },
    {
     "data": {
      "text/plain": [
       "5"
      ]
     },
     "execution_count": 142,
     "metadata": {},
     "output_type": "execute_result"
    }
   ],
   "source": [
    "def plus_three(x):\n",
    "  return x + 3\n",
    "\n",
    "g = plus_three  # g is a function\n",
    "g\n",
    "g(2)"
   ]
  },
  {
   "cell_type": "markdown",
   "metadata": {},
   "source": [
    "# Second-Order Functions\n",
    "\n",
    "Second-Order Functions return other functions."
   ]
  },
  {
   "cell_type": "code",
   "execution_count": 143,
   "metadata": {},
   "outputs": [
    {
     "data": {
      "text/plain": [
       "<function __main__.constantly.<locals>.<lambda>(*_args, **_kwargs)>"
      ]
     },
     "execution_count": 143,
     "metadata": {},
     "output_type": "execute_result"
    }
   ],
   "source": [
    "# Functions with zero or more arguments that return anything.\n",
    "Variadic = Callable[..., Any]\n",
    "\n",
    "def constantly(x: Any) -> Variadic:\n",
    "  'Returns a function that returns a constant value.'\n",
    "  return lambda *_args, **_kwargs: x\n",
    "\n",
    "always_7 = constantly(7)\n",
    "always_7"
   ]
  },
  {
   "cell_type": "code",
   "execution_count": 144,
   "metadata": {},
   "outputs": [
    {
     "data": {
      "text/plain": [
       "7"
      ]
     },
     "execution_count": 144,
     "metadata": {},
     "output_type": "execute_result"
    },
    {
     "data": {
      "text/plain": [
       "7"
      ]
     },
     "execution_count": 144,
     "metadata": {},
     "output_type": "execute_result"
    },
    {
     "data": {
      "text/plain": [
       "7"
      ]
     },
     "execution_count": 144,
     "metadata": {},
     "output_type": "execute_result"
    }
   ],
   "source": [
    "always_7()\n",
    "always_7(11)\n",
    "always_7(13, 17)"
   ]
  },
  {
   "cell_type": "markdown",
   "metadata": {},
   "source": [
    "# Object Adapters"
   ]
  },
  {
   "cell_type": "code",
   "execution_count": 145,
   "metadata": {},
   "outputs": [
    {
     "data": {
      "text/plain": [
       "2"
      ]
     },
     "execution_count": 145,
     "metadata": {},
     "output_type": "execute_result"
    },
    {
     "data": {
      "text/plain": [
       "1"
      ]
     },
     "execution_count": 145,
     "metadata": {},
     "output_type": "execute_result"
    }
   ],
   "source": [
    "# Function with one argument that returns anything.\n",
    "Unary = Callable[[Any], Any]\n",
    "\n",
    "# A value `x` that supports `x[i]`:\n",
    "Indexable = Union[List, Tuple, Dict]\n",
    "\n",
    "def at(i: Any) -> Unary:\n",
    "  'Returns a function `f(x)` that returns `x[i]`.'\n",
    "  return lambda x: x[i]\n",
    "\n",
    "f = at(2)\n",
    "f([0, 1, 2, 3])\n",
    "\n",
    "g = at(\"a\")\n",
    "g({\"a\": 1, \"b\": 2})"
   ]
  },
  {
   "cell_type": "code",
   "execution_count": 146,
   "metadata": {},
   "outputs": [
    {
     "data": {
      "text/plain": [
       "2"
      ]
     },
     "execution_count": 146,
     "metadata": {},
     "output_type": "execute_result"
    },
    {
     "data": {
      "text/plain": [
       "1"
      ]
     },
     "execution_count": 146,
     "metadata": {},
     "output_type": "execute_result"
    }
   ],
   "source": [
    "def indexed(x: Indexable) -> Unary:\n",
    "  'Returns a function `f(i)` that returns `x[i]`.'\n",
    "  return lambda i: x[i]\n",
    "\n",
    "f = indexed([0, 1, 2, 3])\n",
    "f(2)\n",
    "\n",
    "g = indexed({\"a\": 1, \"b\": 2})\n",
    "g(\"a\")"
   ]
  },
  {
   "cell_type": "markdown",
   "metadata": {},
   "source": [
    "# Object Accessors"
   ]
  },
  {
   "cell_type": "code",
   "execution_count": 147,
   "metadata": {},
   "outputs": [
    {
     "data": {
      "text/plain": [
       "Position(x=2, y=3)"
      ]
     },
     "execution_count": 147,
     "metadata": {},
     "output_type": "execute_result"
    }
   ],
   "source": [
    "@dataclass\n",
    "class Position:\n",
    "  x: int = 0\n",
    "  y: int = 0\n",
    "\n",
    "p = Position(2, 3)\n",
    "p\n",
    "\n",
    "def getter(name: str) -> Unary:\n",
    "  return lambda obj: getattr(obj, name)\n",
    "\n",
    "def setter(name: str) -> Unary:\n",
    "  return lambda obj, val: setattr(obj, name, val)\n",
    "\n",
    "def accessor(name: str) -> Callable:\n",
    "  def g(obj, *val):\n",
    "    if val:\n",
    "      return setattr(obj, name, val[0])\n",
    "    return getattr(obj, name)\n",
    "  return g"
   ]
  },
  {
   "cell_type": "code",
   "execution_count": 148,
   "metadata": {},
   "outputs": [
    {
     "data": {
      "text/plain": [
       "2"
      ]
     },
     "execution_count": 148,
     "metadata": {},
     "output_type": "execute_result"
    }
   ],
   "source": [
    "g = getter('x')\n",
    "g(p)"
   ]
  },
  {
   "cell_type": "code",
   "execution_count": 149,
   "metadata": {},
   "outputs": [
    {
     "data": {
      "text/plain": [
       "Position(x=5, y=3)"
      ]
     },
     "execution_count": 149,
     "metadata": {},
     "output_type": "execute_result"
    }
   ],
   "source": [
    "s = setter('x')\n",
    "s(p, 5)\n",
    "p"
   ]
  },
  {
   "cell_type": "code",
   "execution_count": 150,
   "metadata": {},
   "outputs": [
    {
     "data": {
      "text/plain": [
       "5"
      ]
     },
     "execution_count": 150,
     "metadata": {},
     "output_type": "execute_result"
    },
    {
     "data": {
      "text/plain": [
       "Position(x=7, y=3)"
      ]
     },
     "execution_count": 150,
     "metadata": {},
     "output_type": "execute_result"
    }
   ],
   "source": [
    "\n",
    "a = accessor('x')\n",
    "a(p)\n",
    "a(p, 7)\n",
    "p"
   ]
  },
  {
   "cell_type": "markdown",
   "metadata": {},
   "source": [
    "# Object as Dict"
   ]
  },
  {
   "cell_type": "code",
   "execution_count": 151,
   "metadata": {},
   "outputs": [
    {
     "data": {
      "text/plain": [
       "2"
      ]
     },
     "execution_count": 151,
     "metadata": {},
     "output_type": "execute_result"
    },
    {
     "data": {
      "text/plain": [
       "3"
      ]
     },
     "execution_count": 151,
     "metadata": {},
     "output_type": "execute_result"
    }
   ],
   "source": [
    "def object_get(obj):\n",
    "  def g(name, *default):\n",
    "    if default and not hasattr(obj, name):\n",
    "      return default[0]\n",
    "    return getattr(obj, name)\n",
    "  return g\n",
    "\n",
    "p = Position(2, 3)\n",
    "f = object_get(p)\n",
    "f('x')\n",
    "f('y')"
   ]
  },
  {
   "cell_type": "code",
   "execution_count": 152,
   "metadata": {},
   "outputs": [
    {
     "name": "stdout",
     "output_type": "stream",
     "text": [
      "AttributeError(\"'Position' object has no attribute 'z'\")\n"
     ]
    }
   ],
   "source": [
    "try:\n",
    "  f('z')\n",
    "except AttributeError as e:\n",
    "  print(repr(e))"
   ]
  },
  {
   "cell_type": "code",
   "execution_count": 153,
   "metadata": {},
   "outputs": [
    {
     "data": {
      "text/plain": [
       "13"
      ]
     },
     "execution_count": 153,
     "metadata": {},
     "output_type": "execute_result"
    }
   ],
   "source": [
    "f('z', 13)"
   ]
  },
  {
   "cell_type": "markdown",
   "metadata": {},
   "source": [
    "# Generators"
   ]
  },
  {
   "cell_type": "code",
   "execution_count": 154,
   "metadata": {},
   "outputs": [
    {
     "data": {
      "text/plain": [
       "<function __main__.counter.<locals>.g()>"
      ]
     },
     "execution_count": 154,
     "metadata": {},
     "output_type": "execute_result"
    },
    {
     "data": {
      "text/plain": [
       "2"
      ]
     },
     "execution_count": 154,
     "metadata": {},
     "output_type": "execute_result"
    },
    {
     "data": {
      "text/plain": [
       "3"
      ]
     },
     "execution_count": 154,
     "metadata": {},
     "output_type": "execute_result"
    },
    {
     "data": {
      "text/plain": [
       "4"
      ]
     },
     "execution_count": 154,
     "metadata": {},
     "output_type": "execute_result"
    }
   ],
   "source": [
    "def counter(i: int = 0):\n",
    "  'Returns a \"generator\" function that returns `i`, `i + 1`, `i + 2`, ... .'\n",
    "  i -= 1\n",
    "  def g():\n",
    "    nonlocal i\n",
    "    return (i := i + 1)\n",
    "  return g\n",
    "\n",
    "c = counter(2)\n",
    "c\n",
    "c()\n",
    "c()\n",
    "c()"
   ]
  },
  {
   "cell_type": "markdown",
   "metadata": {},
   "source": [
    "# Stateful Combinators"
   ]
  },
  {
   "cell_type": "code",
   "execution_count": 155,
   "metadata": {},
   "outputs": [
    {
     "data": {
      "text/plain": [
       "{0: 'a', 1: 'b', 2: 'c', 3: 'd'}"
      ]
     },
     "execution_count": 155,
     "metadata": {},
     "output_type": "execute_result"
    }
   ],
   "source": [
    "def with_index(f: Callable, i: int = 0):\n",
    "  c = counter(i)\n",
    "  return lambda *args, **kwargs: f(c(), *args, **kwargs)\n",
    "\n",
    "def conjoin(a, b):\n",
    "  return (a, b)\n",
    "\n",
    "dict(map(with_index(conjoin), [\"a\", \"b\", \"c\", \"d\"]))"
   ]
  },
  {
   "cell_type": "markdown",
   "metadata": {},
   "source": [
    "# Predicates"
   ]
  },
  {
   "cell_type": "code",
   "execution_count": 156,
   "metadata": {},
   "outputs": [
    {
     "data": {
      "text/plain": [
       "True"
      ]
     },
     "execution_count": 156,
     "metadata": {},
     "output_type": "execute_result"
    },
    {
     "data": {
      "text/plain": [
       "False"
      ]
     },
     "execution_count": 156,
     "metadata": {},
     "output_type": "execute_result"
    }
   ],
   "source": [
    "\n",
    "# Functions with zero or more arguments that return a boolean.\n",
    "Predicate = Callable[..., bool]\n",
    "\n",
    "def is_string(x: Any) -> bool:\n",
    "  'Returns true if `x` is a string.'\n",
    "  return isinstance(x, str)\n",
    "\n",
    "is_string(\"hello\")\n",
    "is_string(3)"
   ]
  },
  {
   "cell_type": "code",
   "execution_count": 157,
   "metadata": {},
   "outputs": [
    {
     "data": {
      "text/plain": [
       "True"
      ]
     },
     "execution_count": 157,
     "metadata": {},
     "output_type": "execute_result"
    },
    {
     "data": {
      "text/plain": [
       "False"
      ]
     },
     "execution_count": 157,
     "metadata": {},
     "output_type": "execute_result"
    }
   ],
   "source": [
    "\n",
    "# Functions with zero or more arguments that return a boolean.\n",
    "Predicate = Callable[..., bool]\n",
    "\n",
    "def is_string(x: Any) -> bool:\n",
    "  'Returns true if `x` is a string.'\n",
    "  return isinstance(x, str)\n",
    "\n",
    "is_string(\"hello\")\n",
    "is_string(3)"
   ]
  },
  {
   "cell_type": "markdown",
   "metadata": {},
   "source": [
    "# Predicate Combinators"
   ]
  },
  {
   "cell_type": "code",
   "execution_count": 158,
   "metadata": {},
   "outputs": [
    {
     "data": {
      "text/plain": [
       "False"
      ]
     },
     "execution_count": 158,
     "metadata": {},
     "output_type": "execute_result"
    },
    {
     "data": {
      "text/plain": [
       "True"
      ]
     },
     "execution_count": 158,
     "metadata": {},
     "output_type": "execute_result"
    }
   ],
   "source": [
    "# Functions that take a Predicate and return a new Predicate.\n",
    "PredicateCombinator = Callable[[Predicate], Predicate]\n",
    "\n",
    "def not_(f: Predicate) -> Predicate:\n",
    "  'Returns a function that logically negates the result of the given function.'\n",
    "  return lambda *args, **kwargs: not f(*args, **kwargs)\n",
    "\n",
    "f = not_(is_string)\n",
    "f(\"hello\")\n",
    "f(3)"
   ]
  },
  {
   "cell_type": "markdown",
   "metadata": {},
   "source": [
    "# Mapping functions over sequences"
   ]
  },
  {
   "cell_type": "code",
   "execution_count": 159,
   "metadata": {},
   "outputs": [
    {
     "data": {
      "text/plain": [
       "[1, 'string', False, True, None]"
      ]
     },
     "execution_count": 159,
     "metadata": {},
     "output_type": "execute_result"
    },
    {
     "data": {
      "text/plain": [
       "[7, 7, 7, 7, 7]"
      ]
     },
     "execution_count": 159,
     "metadata": {},
     "output_type": "execute_result"
    },
    {
     "data": {
      "text/plain": [
       "[False, True, False, False, False]"
      ]
     },
     "execution_count": 159,
     "metadata": {},
     "output_type": "execute_result"
    },
    {
     "data": {
      "text/plain": [
       "[True, False, True, True, True]"
      ]
     },
     "execution_count": 159,
     "metadata": {},
     "output_type": "execute_result"
    },
    {
     "data": {
      "text/plain": [
       "[6, 8, 10, 14]"
      ]
     },
     "execution_count": 159,
     "metadata": {},
     "output_type": "execute_result"
    }
   ],
   "source": [
    "def map(f: Unary, xs: Sequence) -> Sequence:\n",
    "  'Returns a sequence of `f(x)` for each element `x` in `xs`.'\n",
    "  return [f(x) for x in xs]\n",
    "\n",
    "items = [1, \"string\", False, True, None]\n",
    "map(identity, items)\n",
    "map(always_7, items)\n",
    "map(is_string, items)\n",
    "map(not_(is_string), items)\n",
    "map(plus_three, [3, 5, 7, 11])"
   ]
  },
  {
   "cell_type": "markdown",
   "metadata": {},
   "source": [
    "# Filtering Sequences with Predicates"
   ]
  },
  {
   "cell_type": "code",
   "execution_count": 160,
   "metadata": {},
   "outputs": [
    {
     "data": {
      "text/plain": [
       "['string']"
      ]
     },
     "execution_count": 160,
     "metadata": {},
     "output_type": "execute_result"
    },
    {
     "data": {
      "text/plain": [
       "[1, False, True, None]"
      ]
     },
     "execution_count": 160,
     "metadata": {},
     "output_type": "execute_result"
    }
   ],
   "source": [
    "def filter(f: Unary, xs: Sequence) -> Sequence:\n",
    "  'Returns a sequence of the elements of `xs` for which `f` returns true.'\n",
    "  return [x for x in xs if f(x)]\n",
    "\n",
    "items = [1, \"string\", False, True, None]\n",
    "filter(is_string, items)\n",
    "filter(not_(is_string), items)"
   ]
  },
  {
   "cell_type": "markdown",
   "metadata": {},
   "source": [
    "# Reducing Sequences with Binary Functions"
   ]
  },
  {
   "cell_type": "code",
   "execution_count": 161,
   "metadata": {},
   "outputs": [
    {
     "data": {
      "text/plain": [
       "17"
      ]
     },
     "execution_count": 161,
     "metadata": {},
     "output_type": "execute_result"
    },
    {
     "data": {
      "text/plain": [
       "'Here Is AListOfStrings'"
      ]
     },
     "execution_count": 161,
     "metadata": {},
     "output_type": "execute_result"
    }
   ],
   "source": [
    "# Functions with two arguments that return anything.\n",
    "Binary = Callable[[Any, Any], Any]\n",
    "\n",
    "def reduce(f: Binary, init: Any, xs: Sequence) -> Sequence:\n",
    "  'Returns the result of `init = f(x, init)` for each element `x` in `xs`.'\n",
    "  for x in xs:\n",
    "    init = f(init, x)\n",
    "  return init\n",
    "\n",
    "def add(x, y):\n",
    "  return x + y\n",
    "\n",
    "reduce(add, 2, [3, 5, 7])\n",
    "a_list_of_strings = [\"A\", \"List\", 'Of', 'Strings']\n",
    "reduce(add, \"Here Is \", a_list_of_strings)"
   ]
  },
  {
   "cell_type": "code",
   "execution_count": 162,
   "metadata": {},
   "outputs": [
    {
     "data": {
      "text/plain": [
       "((((((((2, 3), 'a'), 5), 'b'), 7), 'c'), 11), True)"
      ]
     },
     "execution_count": 162,
     "metadata": {},
     "output_type": "execute_result"
    }
   ],
   "source": [
    "def conjoin(x, y):\n",
    "  return (x, y)\n",
    "\n",
    "items = [3, \"a\", 5, \"b\", 7, \"c\", 11, True]\n",
    "reduce(conjoin, 2, items)"
   ]
  },
  {
   "cell_type": "code",
   "execution_count": 163,
   "metadata": {},
   "outputs": [
    {
     "data": {
      "text/plain": [
       "'abc'"
      ]
     },
     "execution_count": 163,
     "metadata": {},
     "output_type": "execute_result"
    },
    {
     "data": {
      "text/plain": [
       "26"
      ]
     },
     "execution_count": 163,
     "metadata": {},
     "output_type": "execute_result"
    },
    {
     "data": {
      "text/plain": [
       "27"
      ]
     },
     "execution_count": 163,
     "metadata": {},
     "output_type": "execute_result"
    }
   ],
   "source": [
    "# Concat all strings:\n",
    "reduce(add, \"\", filter(is_string, items))\n",
    "\n",
    "# Sum of all numbers:\n",
    "def is_number(x: Any) -> bool:\n",
    "  return not isinstance(x, bool) and isinstance(x, Number)\n",
    "reduce(add, 0, filter(is_number, items))\n",
    "\n",
    "# Sum all non-strings:\n",
    "reduce(add, 0, filter(not_(is_string), items))"
   ]
  },
  {
   "cell_type": "markdown",
   "metadata": {},
   "source": [
    "# Map as a Reduction"
   ]
  },
  {
   "cell_type": "code",
   "execution_count": 164,
   "metadata": {},
   "outputs": [
    {
     "data": {
      "text/plain": [
       "[6, 8, 10, 14]"
      ]
     },
     "execution_count": 164,
     "metadata": {},
     "output_type": "execute_result"
    },
    {
     "data": {
      "text/plain": [
       "[6, 8, 10, 14]"
      ]
     },
     "execution_count": 164,
     "metadata": {},
     "output_type": "execute_result"
    }
   ],
   "source": [
    "def map_r(f: Unary, xs: Sequence) -> Sequence:\n",
    "  def acc(seq, x):\n",
    "    return seq + [f(x)]\n",
    "  return reduce(acc, [], xs)\n",
    "\n",
    "map(plus_three, [3, 5, 7, 11])\n",
    "map_r(plus_three, [3, 5, 7, 11])"
   ]
  },
  {
   "cell_type": "markdown",
   "metadata": {},
   "source": [
    "# Filter as a Reduction"
   ]
  },
  {
   "cell_type": "code",
   "execution_count": 165,
   "metadata": {},
   "outputs": [
    {
     "data": {
      "text/plain": [
       "[3, 'a', 5, 'b', 7, 'c', 11, True]"
      ]
     },
     "execution_count": 165,
     "metadata": {},
     "output_type": "execute_result"
    },
    {
     "data": {
      "text/plain": [
       "['a', 'b', 'c']"
      ]
     },
     "execution_count": 165,
     "metadata": {},
     "output_type": "execute_result"
    },
    {
     "data": {
      "text/plain": [
       "['a', 'b', 'c']"
      ]
     },
     "execution_count": 165,
     "metadata": {},
     "output_type": "execute_result"
    }
   ],
   "source": [
    "def filter_r(f: Unary, xs: Sequence) -> Sequence:\n",
    "  def acc(seq, x):\n",
    "    return seq + [x] if f(x) else seq\n",
    "  return reduce(acc, [], xs)\n",
    "\n",
    "items\n",
    "filter(is_string, items)\n",
    "filter_r(is_string, items)"
   ]
  },
  {
   "cell_type": "markdown",
   "metadata": {},
   "source": [
    "# Function Composition"
   ]
  },
  {
   "cell_type": "code",
   "execution_count": 166,
   "metadata": {},
   "outputs": [
    {
     "data": {
      "text/plain": [
       "18"
      ]
     },
     "execution_count": 166,
     "metadata": {},
     "output_type": "execute_result"
    },
    {
     "data": {
      "text/plain": [
       "18"
      ]
     },
     "execution_count": 166,
     "metadata": {},
     "output_type": "execute_result"
    }
   ],
   "source": [
    "def compose(*callables) -> Variadic:\n",
    "  'Returns the composition one or more functions, in reverse order.'\n",
    "  'For example, `compose(g, f)(x, y)` is equivalent to `g(f(x, y))`.'\n",
    "  f: Callable = callables[-1]\n",
    "  gs: Sequence[Unary] = tuple(reversed(callables[:-1]))\n",
    "  def h(*args, **kwargs):\n",
    "    result = f(*args, **kwargs)\n",
    "    for g in gs:\n",
    "      result = g(result)\n",
    "    return result\n",
    "  return h\n",
    "\n",
    "def multiply_by_3(x):\n",
    "  return x * 3\n",
    "\n",
    "plus_three(multiply_by_3(5))\n",
    "\n",
    "f = compose(plus_three, multiply_by_3)\n",
    "f(5)"
   ]
  },
  {
   "cell_type": "markdown",
   "metadata": {},
   "source": [
    "# Interlude"
   ]
  },
  {
   "cell_type": "code",
   "execution_count": 167,
   "metadata": {},
   "outputs": [
    {
     "data": {
      "text/plain": [
       "[0, 1, 2, 0, 1, 2, 0, 1, 2, 0]"
      ]
     },
     "execution_count": 167,
     "metadata": {},
     "output_type": "execute_result"
    }
   ],
   "source": [
    "def modulo(modulus: int) -> Callable[[int], int]:\n",
    "  return lambda x: x % modulus\n",
    "\n",
    "mod_3 = modulo(3)\n",
    "map(mod_3, range(10))"
   ]
  },
  {
   "cell_type": "code",
   "execution_count": 168,
   "metadata": {},
   "outputs": [
    {
     "data": {
      "text/plain": [
       "['A', 'List', 'Of', 'A', 'List', 'Of', 'A', 'List', 'Of', 'A']"
      ]
     },
     "execution_count": 168,
     "metadata": {},
     "output_type": "execute_result"
    }
   ],
   "source": [
    "f = compose(indexed(a_list_of_strings), mod_3)\n",
    "map(f, range(10))"
   ]
  },
  {
   "cell_type": "markdown",
   "metadata": {},
   "source": [
    "# Partial Application"
   ]
  },
  {
   "cell_type": "code",
   "execution_count": 169,
   "metadata": {},
   "outputs": [
    {
     "data": {
      "text/plain": [
       "25"
      ]
     },
     "execution_count": 169,
     "metadata": {},
     "output_type": "execute_result"
    },
    {
     "data": {
      "text/plain": [
       "25"
      ]
     },
     "execution_count": 169,
     "metadata": {},
     "output_type": "execute_result"
    }
   ],
   "source": [
    "\n",
    "def add_and_multiply(a, b, c):\n",
    "  return (a + b) * c\n",
    "\n",
    "add_and_multiply(2, 3, 5)\n",
    "\n",
    "def partial(f: Callable, *args, **kwargs) -> Callable:\n",
    "  'Returns a function that prepends `args` and merges `kwargs`.'\n",
    "  def g(*args2, **kwargs2):\n",
    "    return f(*(args + args2), **dict(kwargs, **kwargs2))\n",
    "  return g\n",
    "\n",
    "f = partial(add_and_multiply, 2)\n",
    "f(3, 5)"
   ]
  },
  {
   "cell_type": "markdown",
   "metadata": {},
   "source": [
    "# Methods are Partially Applied Functions"
   ]
  },
  {
   "cell_type": "code",
   "execution_count": 170,
   "metadata": {},
   "outputs": [
    {
     "data": {
      "text/plain": [
       "5"
      ]
     },
     "execution_count": 170,
     "metadata": {},
     "output_type": "execute_result"
    },
    {
     "data": {
      "text/plain": [
       "5"
      ]
     },
     "execution_count": 170,
     "metadata": {},
     "output_type": "execute_result"
    },
    {
     "data": {
      "text/plain": [
       "<method-wrapper '__add__' of int object at 0x100c0f4a0>"
      ]
     },
     "execution_count": 170,
     "metadata": {},
     "output_type": "execute_result"
    },
    {
     "data": {
      "text/plain": [
       "9"
      ]
     },
     "execution_count": 170,
     "metadata": {},
     "output_type": "execute_result"
    }
   ],
   "source": [
    "a = 2\n",
    "b = 3\n",
    "a + b\n",
    "a.__add__(b)    # eqv. to `a + b`\n",
    "f = a.__add__\n",
    "f\n",
    "f(7)"
   ]
  },
  {
   "cell_type": "markdown",
   "metadata": {},
   "source": [
    "# Debugging"
   ]
  },
  {
   "cell_type": "code",
   "execution_count": 171,
   "metadata": {},
   "outputs": [
    {
     "data": {
      "text/plain": [
       "['5', '6', '8']"
      ]
     },
     "execution_count": 171,
     "metadata": {},
     "output_type": "execute_result"
    },
    {
     "name": "stderr",
     "output_type": "stream",
     "text": [
      "  ## g(2) => ...\n",
      "  ## g(2) => '5'\n",
      "  ## g(3) => ...\n",
      "  ## g(3) => '6'\n",
      "  ## g(5) => ...\n",
      "  ## g(5) => '8'\n"
     ]
    },
    {
     "data": {
      "text/plain": [
       "['5', '6', '8']"
      ]
     },
     "execution_count": 171,
     "metadata": {},
     "output_type": "execute_result"
    },
    {
     "name": "stderr",
     "output_type": "stream",
     "text": [
      "  ## map_g([2, 3, 5]) => ...\n",
      "  ## g(2) => ...\n",
      "  ## g(2) => '5'\n",
      "  ## g(3) => ...\n",
      "  ## g(3) => '6'\n",
      "  ## g(5) => ...\n",
      "  ## g(5) => '8'\n",
      "  ## map_g([2, 3, 5]) => ['5', '6', '8']\n"
     ]
    },
    {
     "data": {
      "text/plain": [
       "['5', '6', '8']"
      ]
     },
     "execution_count": 171,
     "metadata": {},
     "output_type": "execute_result"
    }
   ],
   "source": [
    "def trace(\n",
    "    name: str,\n",
    "    log: Unary,\n",
    "    f: Callable,\n",
    "  ) -> Callable:\n",
    "  def g(*args, **kwargs):\n",
    "    msg = f\"{name}({format_args(args, kwargs)})\"\n",
    "    log(f\"{msg} => ...\")\n",
    "    result = f(*args, **kwargs)\n",
    "    log(f\"{msg} => {result!r}\")\n",
    "    return result\n",
    "  return g\n",
    "\n",
    "def format_args(args, kwargs):\n",
    "  return ', '.join(map(repr, args) + [f'{k}={v!r}' for k, v in kwargs])\n",
    "\n",
    "def log(msg):\n",
    "  sys.stderr.write(f'  ## {msg}\\n')\n",
    "\n",
    "f = compose(str, plus_three)\n",
    "map(f, [2, 3, 5])\n",
    "\n",
    "g = trace(\"g\", log, f, )\n",
    "map(g, [2, 3, 5])\n",
    "\n",
    "map_g = trace(\"map_g\", log, partial(map, g))\n",
    "map_g([2, 3, 5])\n"
   ]
  },
  {
   "cell_type": "markdown",
   "metadata": {},
   "source": [
    "# Error Handlers"
   ]
  },
  {
   "cell_type": "code",
   "execution_count": 172,
   "metadata": {},
   "outputs": [
    {
     "data": {
      "text/plain": [
       "5"
      ]
     },
     "execution_count": 172,
     "metadata": {},
     "output_type": "execute_result"
    },
    {
     "name": "stderr",
     "output_type": "stream",
     "text": [
      "ERROR:root:plus_three: (TypeError('can only concatenate str (not \"int\") to str'), ('Nope',), {})\n"
     ]
    }
   ],
   "source": [
    "def except_(f: Variadic, ex_class, error: Unary) -> Callable:\n",
    "  def g(*args, **kwargs):\n",
    "    try:\n",
    "      return f(*args, **kwargs)\n",
    "    except ex_class as exc:\n",
    "      return error((exc, args, kwargs))\n",
    "  return g\n",
    "\n",
    "f = except_(plus_three, TypeError, compose(partial(logging.error, 'plus_three: %s'), repr))\n",
    "f(2)\n",
    "f('Nope')"
   ]
  },
  {
   "cell_type": "markdown",
   "metadata": {},
   "source": [
    "# Arity Reduction"
   ]
  },
  {
   "cell_type": "code",
   "execution_count": 173,
   "metadata": {},
   "outputs": [
    {
     "data": {
      "text/plain": [
       "((), {})"
      ]
     },
     "execution_count": 173,
     "metadata": {},
     "output_type": "execute_result"
    },
    {
     "data": {
      "text/plain": [
       "((1,), {})"
      ]
     },
     "execution_count": 173,
     "metadata": {},
     "output_type": "execute_result"
    },
    {
     "data": {
      "text/plain": [
       "((1, 2), {})"
      ]
     },
     "execution_count": 173,
     "metadata": {},
     "output_type": "execute_result"
    },
    {
     "data": {
      "text/plain": [
       "((), {'a': 1, 'b': 2})"
      ]
     },
     "execution_count": 173,
     "metadata": {},
     "output_type": "execute_result"
    }
   ],
   "source": [
    "def unary(f: Variadic) -> Unary:\n",
    "  return lambda *args, **kwargs: f((args, kwargs))\n",
    "\n",
    "f = unary(identity)\n",
    "f()\n",
    "f(1)\n",
    "f(1, 2)\n",
    "f(a=1, b=2)"
   ]
  },
  {
   "cell_type": "markdown",
   "metadata": {},
   "source": [
    "# Predicators"
   ]
  },
  {
   "cell_type": "code",
   "execution_count": 174,
   "metadata": {},
   "outputs": [
    {
     "data": {
      "text/plain": [
       "True"
      ]
     },
     "execution_count": 174,
     "metadata": {},
     "output_type": "execute_result"
    },
    {
     "data": {
      "text/plain": [
       "False"
      ]
     },
     "execution_count": 174,
     "metadata": {},
     "output_type": "execute_result"
    }
   ],
   "source": [
    "def re_pred(pat: str, re_func: Callable = re.search) -> Predicate:\n",
    "  'Returns a predicate that matches a regular expression.'\n",
    "  rx = re.compile(pat)\n",
    "  return lambda x: re_func(rx, str(x)) is not None\n",
    "\n",
    "re_pred(\"ab\")(\"abc\")\n",
    "re_pred(\"ab\")(\"nope\")"
   ]
  },
  {
   "cell_type": "code",
   "execution_count": 175,
   "metadata": {},
   "outputs": [],
   "source": [
    "def default(f: Variadic, g: Variadic) -> Variadic:\n",
    "  def h(*args, **kwargs):\n",
    "    if (result := f(*args, **kwargs)) is not None:\n",
    "      return result\n",
    "    return g(*args, **kwargs)\n",
    "  return h"
   ]
  },
  {
   "cell_type": "markdown",
   "metadata": {},
   "source": [
    "asdf"
   ]
  },
  {
   "cell_type": "markdown",
   "metadata": {},
   "source": [
    "# Logical Predicate Composers"
   ]
  },
  {
   "cell_type": "code",
   "execution_count": 176,
   "metadata": {},
   "outputs": [
    {
     "data": {
      "text/plain": [
       "True"
      ]
     },
     "execution_count": 176,
     "metadata": {},
     "output_type": "execute_result"
    },
    {
     "data": {
      "text/plain": [
       "False"
      ]
     },
     "execution_count": 176,
     "metadata": {},
     "output_type": "execute_result"
    },
    {
     "data": {
      "text/plain": [
       "False"
      ]
     },
     "execution_count": 176,
     "metadata": {},
     "output_type": "execute_result"
    },
    {
     "data": {
      "text/plain": [
       "False"
      ]
     },
     "execution_count": 176,
     "metadata": {},
     "output_type": "execute_result"
    }
   ],
   "source": [
    "def and_(f: Variadic, g: Variadic) -> Variadic:\n",
    "  'Returns a function `h(x, ...)` that returns `f(x, ...) and g(x, ...).'\n",
    "  return lambda *args, **kwargs: f(*args, **kwargs) and g(*args, **kwargs)\n",
    "\n",
    "def or_(f: Variadic, g: Variadic) -> Variadic:\n",
    "  'Returns a function `h(x, ...)` that returns `f(x, ...) or g(x, ...).'\n",
    "  return lambda *args, **kwargs: f(*args, **kwargs) or g(*args, **kwargs)\n",
    "\n",
    "def is_string(x):\n",
    "  return isinstance(x, str)\n",
    "\n",
    "is_word = and_(is_string, re_pred(r'^[a-z]+$'))\n",
    "is_word(\"hello\")\n",
    "is_word(\"not-a-word\")\n",
    "is_word(2)\n",
    "is_word(None)"
   ]
  },
  {
   "cell_type": "code",
   "execution_count": 177,
   "metadata": {},
   "outputs": [
    {
     "data": {
      "text/plain": [
       "[True, False, False, False]"
      ]
     },
     "execution_count": 177,
     "metadata": {},
     "output_type": "execute_result"
    }
   ],
   "source": [
    "# If x is a number add three:\n",
    "f = and_(is_number, plus_three)\n",
    "# If x is a string, is it a word?:\n",
    "g = and_(is_string, is_word)\n",
    "# One or the other:\n",
    "h = or_(f, g)\n",
    "items = [\"hello\", \"not-a-word\", 2, None]\n",
    "map(g, items)"
   ]
  },
  {
   "cell_type": "code",
   "execution_count": 178,
   "metadata": {},
   "outputs": [],
   "source": [
    "Procedure = Callable[[], Any]\n",
    "\n",
    "def if_(f: Variadic, g: Unary, h: Unary) -> Variadic:\n",
    "  def i(*args, **kwargs):\n",
    "    if (result := f(*args, **kwargs)):\n",
    "      return g()\n",
    "    return h()\n",
    "  return i"
   ]
  },
  {
   "cell_type": "markdown",
   "metadata": {},
   "source": [
    "# Operator Predicates"
   ]
  },
  {
   "cell_type": "code",
   "execution_count": 179,
   "metadata": {},
   "outputs": [
    {
     "data": {
      "text/plain": [
       "True"
      ]
     },
     "execution_count": 179,
     "metadata": {},
     "output_type": "execute_result"
    },
    {
     "data": {
      "text/plain": [
       "False"
      ]
     },
     "execution_count": 179,
     "metadata": {},
     "output_type": "execute_result"
    }
   ],
   "source": [
    "\n",
    "def binary_op(op: str) -> Optional[Callable[[Any, Any], Any]]:\n",
    "  'Returns a function for a binary operator by name.'\n",
    "  return BINARY_OPS.get(op)\n",
    "\n",
    "BINARY_OPS = {\n",
    "  '==': lambda a, b: a == b,\n",
    "  '!=': lambda a, b: a != b,\n",
    "  '<':  lambda a, b: a < b,\n",
    "  '>':  lambda a, b: a > b,\n",
    "  '<=': lambda a, b: a <= b,\n",
    "  '>=': lambda a, b: a >= b,\n",
    "  'and': lambda a, b: a and b,\n",
    "  'or': lambda a, b: a or b,\n",
    "}\n",
    "\n",
    "binary_op('==') (2, 2)\n",
    "binary_op('!=') (2, 2)"
   ]
  },
  {
   "cell_type": "code",
   "execution_count": 180,
   "metadata": {},
   "outputs": [
    {
     "data": {
      "text/plain": [
       "['2 < 3',\n",
       " '2 < 5',\n",
       " '3 < 5',\n",
       " '2 == 2',\n",
       " '3 == 3',\n",
       " '5 == 5',\n",
       " '3 > 2',\n",
       " '5 > 2',\n",
       " '5 > 3']"
      ]
     },
     "execution_count": 180,
     "metadata": {},
     "output_type": "execute_result"
    }
   ],
   "source": [
    "# Create a table where `x OP y` is true:\n",
    "[\n",
    "  f'{x} {op} {y}'\n",
    "  for op in ['<', '==', '>']\n",
    "  for x in (2, 3, 5)\n",
    "  for y in (2, 3, 5)\n",
    "  if binary_op(op)(x, y)\n",
    "]"
   ]
  },
  {
   "cell_type": "code",
   "execution_count": 181,
   "metadata": {},
   "outputs": [],
   "source": [
    "def op_pred(op: str, b: Any) -> Optional[Predicate]:\n",
    "  'Returns a predicate function given an operator name and a constant.'\n",
    "  if pred := binary_op(op):\n",
    "    return lambda a: pred(a, b)\n",
    "  if op == \"not\":\n",
    "    return lambda a: not a\n",
    "  if op == \"~=\":\n",
    "    return re_pred(b)\n",
    "  if op == \"~!\":\n",
    "    return not_(re_pred(b))\n",
    "  return None"
   ]
  },
  {
   "cell_type": "code",
   "execution_count": 182,
   "metadata": {},
   "outputs": [
    {
     "data": {
      "text/plain": [
       "False"
      ]
     },
     "execution_count": 182,
     "metadata": {},
     "output_type": "execute_result"
    },
    {
     "data": {
      "text/plain": [
       "True"
      ]
     },
     "execution_count": 182,
     "metadata": {},
     "output_type": "execute_result"
    }
   ],
   "source": [
    "f = op_pred(\">\", 3)\n",
    "f(2)\n",
    "f(5)"
   ]
  },
  {
   "cell_type": "code",
   "execution_count": 183,
   "metadata": {},
   "outputs": [
    {
     "data": {
      "text/plain": [
       "False"
      ]
     },
     "execution_count": 183,
     "metadata": {},
     "output_type": "execute_result"
    },
    {
     "data": {
      "text/plain": [
       "False"
      ]
     },
     "execution_count": 183,
     "metadata": {},
     "output_type": "execute_result"
    },
    {
     "data": {
      "text/plain": [
       "True"
      ]
     },
     "execution_count": 183,
     "metadata": {},
     "output_type": "execute_result"
    }
   ],
   "source": [
    "g = op_pred(\"~=\", 'ab+c')\n",
    "g('')\n",
    "g('ab')\n",
    "g('abbbcc')"
   ]
  },
  {
   "cell_type": "markdown",
   "metadata": {},
   "source": [
    "# Sequencing"
   ]
  },
  {
   "cell_type": "code",
   "execution_count": 184,
   "metadata": {},
   "outputs": [],
   "source": [
    "def progn(*fs: Sequence[Callable]) -> Callable:\n",
    "  'Returns a function that calls each function in turn and returns the last result.'\n",
    "  def g(*args, **kwargs):\n",
    "    result = None\n",
    "    for f in fs:\n",
    "      result = f(*args, **kwargs)\n",
    "    return result\n",
    "  return g"
   ]
  },
  {
   "cell_type": "code",
   "execution_count": 185,
   "metadata": {},
   "outputs": [],
   "source": [
    "def prog1(*fs: Sequence[Callable]) -> Callable:\n",
    "  'Returns a function that calls each function in turn and returns the last result.'\n",
    "  def g(*args, **kwargs):\n",
    "    result = fs[0](*args, **kwargs)\n",
    "    for f in fs[1:]:\n",
    "      result = f(*args, **kwargs)\n",
    "    return result\n",
    "  return g"
   ]
  },
  {
   "cell_type": "code",
   "execution_count": 186,
   "metadata": {},
   "outputs": [
    {
     "data": {
      "text/plain": [
       "4"
      ]
     },
     "execution_count": 186,
     "metadata": {},
     "output_type": "execute_result"
    }
   ],
   "source": [
    "##############################################\n",
    "## Extraction\n",
    "##############################################\n",
    "\n",
    "def reverse_apply(x: Any) -> Callable:\n",
    "  return lambda f, *args, **kwargs: f(x, *args, **kwargs)\n",
    "\n",
    "reverse_apply(1) (plus_three)"
   ]
  },
  {
   "cell_type": "code",
   "execution_count": 187,
   "metadata": {},
   "outputs": [
    {
     "data": {
      "text/plain": [
       "['abcd', 4, ('d', 'c', 'b', 'a')]"
      ]
     },
     "execution_count": 187,
     "metadata": {},
     "output_type": "execute_result"
    }
   ],
   "source": [
    "def demux(*funcs) -> Unary:\n",
    "  'Return a function `h(x)` that returns `[f(x), g(x), ...].'\n",
    "  return lambda x: map(reverse_apply(x), funcs)\n",
    "\n",
    "demux(identity, len, compose(tuple, reversed))(\"abcd\")"
   ]
  },
  {
   "cell_type": "markdown",
   "metadata": {},
   "source": [
    "# Parser Combinators"
   ]
  },
  {
   "cell_type": "code",
   "execution_count": 188,
   "metadata": {},
   "outputs": [],
   "source": [
    "# Parser input: a sequence of lexemes:\n",
    "Input = Sequence[Any]\n",
    "\n",
    "# A parsed value and remaining input:\n",
    "Parsed = Tuple[Any, Input]\n",
    "\n",
    "# A parser matches the input sequence and produces a result or nothing:\n",
    "Parser = Callable[[Input], Optional[Parsed]]"
   ]
  },
  {
   "cell_type": "code",
   "execution_count": 189,
   "metadata": {},
   "outputs": [],
   "source": [
    "\n",
    "def show_match(p: Parser) -> Variadic:\n",
    "  def g(input: Input):\n",
    "    return (p(input) or False, '<=', input)\n",
    "  return g"
   ]
  },
  {
   "cell_type": "code",
   "execution_count": 190,
   "metadata": {},
   "outputs": [
    {
     "name": "stderr",
     "output_type": "stream",
     "text": [
      "DEBUG:root:equals('a', 'a')\n"
     ]
    },
    {
     "data": {
      "text/plain": [
       "('a', [])"
      ]
     },
     "execution_count": 190,
     "metadata": {},
     "output_type": "execute_result"
    },
    {
     "name": "stderr",
     "output_type": "stream",
     "text": [
      "DEBUG:root:equals('a', 'b')\n"
     ]
    }
   ],
   "source": [
    "first = at(0)\n",
    "def rest(x: Input) -> Input:\n",
    "  return x[1:]\n",
    "\n",
    "def equals(x) -> Parser:\n",
    "  'Returns a parser that matches `x`.'\n",
    "  def g(input: input):\n",
    "    y = first(input)\n",
    "    logging.debug(\"equals(%s, %s)\", repr(x), repr(y))\n",
    "    if x == y:\n",
    "      return (y, rest(input))\n",
    "  return g\n",
    "\n",
    "f = equals('a')\n",
    "f(['a'])\n",
    "f(['b', 2])\n"
   ]
  },
  {
   "cell_type": "code",
   "execution_count": 191,
   "metadata": {},
   "outputs": [
    {
     "data": {
      "text/plain": [
       "('a', [])"
      ]
     },
     "execution_count": 191,
     "metadata": {},
     "output_type": "execute_result"
    },
    {
     "data": {
      "text/plain": [
       "('a', ['b'])"
      ]
     },
     "execution_count": 191,
     "metadata": {},
     "output_type": "execute_result"
    },
    {
     "data": {
      "text/plain": [
       "('a', [])"
      ]
     },
     "execution_count": 191,
     "metadata": {},
     "output_type": "execute_result"
    },
    {
     "data": {
      "text/plain": [
       "(2, [])"
      ]
     },
     "execution_count": 191,
     "metadata": {},
     "output_type": "execute_result"
    }
   ],
   "source": [
    "def which(p: Predicate) -> Parser:\n",
    "  'Returns a parser for the next lexeme when `p(lexeme)` is true.'\n",
    "  def g(input: Input):\n",
    "    if p(first(input)):\n",
    "      return (first(input), rest(input))\n",
    "  return g\n",
    "\n",
    "g = which(is_string)\n",
    "g(['a'])\n",
    "g([2])\n",
    "g(['a', 'b'])\n",
    "\n",
    "def alternation(*ps) -> Parser:\n",
    "  def g(input):\n",
    "    for p in ps:\n",
    "      if (result := p(input)):\n",
    "        return result\n",
    "  return g\n",
    "\n",
    "g = alternation(which(is_string), which(is_number))\n",
    "g(['a'])\n",
    "g([2])\n",
    "g([False])\n"
   ]
  },
  {
   "cell_type": "markdown",
   "metadata": {},
   "source": [
    "# Sequence Parsers"
   ]
  },
  {
   "cell_type": "code",
   "execution_count": 192,
   "metadata": {},
   "outputs": [
    {
     "data": {
      "text/plain": [
       "(['a'], [])"
      ]
     },
     "execution_count": 192,
     "metadata": {},
     "output_type": "execute_result"
    },
    {
     "data": {
      "text/plain": [
       "(['a'], ['b'])"
      ]
     },
     "execution_count": 192,
     "metadata": {},
     "output_type": "execute_result"
    }
   ],
   "source": [
    "ParsedSequence = Tuple[Sequence, Input]\n",
    "SequenceParser = Callable[[Input], Optional[ParsedSequence]]\n",
    "\n",
    "def one(p: Parser) -> SequenceParser:\n",
    "  'Returns a parser for one lexeme.'\n",
    "  def g(input: Input):\n",
    "    if input and (result := p(input)):\n",
    "      parsed, input = result\n",
    "      return ([parsed], input)\n",
    "  return g\n",
    "\n",
    "g = one(which(is_string))\n",
    "g([])\n",
    "g(['a'])\n",
    "g([2])\n",
    "g(['a', 'b'])\n"
   ]
  },
  {
   "cell_type": "code",
   "execution_count": 193,
   "metadata": {},
   "outputs": [
    {
     "data": {
      "text/plain": [
       "([], [])"
      ]
     },
     "execution_count": 193,
     "metadata": {},
     "output_type": "execute_result"
    },
    {
     "data": {
      "text/plain": [
       "(['a'], [])"
      ]
     },
     "execution_count": 193,
     "metadata": {},
     "output_type": "execute_result"
    },
    {
     "data": {
      "text/plain": [
       "([], [2])"
      ]
     },
     "execution_count": 193,
     "metadata": {},
     "output_type": "execute_result"
    },
    {
     "data": {
      "text/plain": [
       "(['a', 'b'], [])"
      ]
     },
     "execution_count": 193,
     "metadata": {},
     "output_type": "execute_result"
    },
    {
     "data": {
      "text/plain": [
       "(['a', 'b'], [2])"
      ]
     },
     "execution_count": 193,
     "metadata": {},
     "output_type": "execute_result"
    },
    {
     "data": {
      "text/plain": [
       "(['a', 'b'], [3, 5])"
      ]
     },
     "execution_count": 193,
     "metadata": {},
     "output_type": "execute_result"
    }
   ],
   "source": [
    "def zero_or_more(p: Parser) -> SequenceParser:\n",
    "  'Returns a parser for zero or more lexemes.'\n",
    "  def g(input: Input):\n",
    "    acc = []\n",
    "    while input and (result := p(input)):\n",
    "      parsed, input = result\n",
    "      acc.append(parsed)\n",
    "    return (acc, input)\n",
    "  return g\n",
    "\n",
    "g = zero_or_more(which(is_string))\n",
    "g([])\n",
    "g(['a'])\n",
    "g([2])\n",
    "g(['a', 'b'])\n",
    "g(['a', 'b', 2])\n",
    "g(['a', 'b', 3, 5])"
   ]
  },
  {
   "cell_type": "code",
   "execution_count": 194,
   "metadata": {},
   "outputs": [],
   "source": [
    "def one_or_more(p: Parser) -> SequenceParser:\n",
    "  'Returns a parser for one or more lexemes as a sequence.'\n",
    "  p = zero_or_more(p)\n",
    "  def g(input: Input):\n",
    "    if (result := p(input)) and len(result[0]) >= 1:\n",
    "      return result\n",
    "  return g"
   ]
  },
  {
   "cell_type": "code",
   "execution_count": 195,
   "metadata": {},
   "outputs": [
    {
     "data": {
      "text/plain": [
       "(['a'], [])"
      ]
     },
     "execution_count": 195,
     "metadata": {},
     "output_type": "execute_result"
    },
    {
     "data": {
      "text/plain": [
       "(['a', 'b'], [])"
      ]
     },
     "execution_count": 195,
     "metadata": {},
     "output_type": "execute_result"
    },
    {
     "data": {
      "text/plain": [
       "(['a', 'b'], [2])"
      ]
     },
     "execution_count": 195,
     "metadata": {},
     "output_type": "execute_result"
    },
    {
     "data": {
      "text/plain": [
       "(['a', 'b'], [3, 5])"
      ]
     },
     "execution_count": 195,
     "metadata": {},
     "output_type": "execute_result"
    }
   ],
   "source": [
    "g = one_or_more(which(is_string))\n",
    "g([])\n",
    "g(['a'])\n",
    "g([2])\n",
    "g(['a', 'b'])\n",
    "g(['a', 'b', 2])\n",
    "g(['a', 'b', 3, 5])"
   ]
  },
  {
   "cell_type": "code",
   "execution_count": 196,
   "metadata": {},
   "outputs": [
    {
     "data": {
      "text/plain": [
       "(['a', 'b'], [])"
      ]
     },
     "execution_count": 196,
     "metadata": {},
     "output_type": "execute_result"
    },
    {
     "data": {
      "text/plain": [
       "(['a', 'b'], [2])"
      ]
     },
     "execution_count": 196,
     "metadata": {},
     "output_type": "execute_result"
    },
    {
     "data": {
      "text/plain": [
       "(['a', 'b'], [3, 5])"
      ]
     },
     "execution_count": 196,
     "metadata": {},
     "output_type": "execute_result"
    }
   ],
   "source": [
    "def sequence_of(*parsers) -> SequenceParser:\n",
    "  'Returns a parser for parsers of a sequence.'\n",
    "  def g(input: Input):\n",
    "    acc = []\n",
    "    for p in parsers:\n",
    "      if result := p(input):\n",
    "        parsed, input = result\n",
    "        acc.extend(parsed)\n",
    "      else:\n",
    "        return None\n",
    "    return (acc, input)\n",
    "  return g\n",
    "\n",
    "g = sequence_of(one(which(is_string)), one(which(is_string)))\n",
    "g([])\n",
    "g(['a'])\n",
    "g([2])\n",
    "g(['a', 'b'])\n",
    "g(['a', 'b', 2])\n",
    "g(['a', 'b', 3, 5])"
   ]
  },
  {
   "cell_type": "code",
   "execution_count": 197,
   "metadata": {},
   "outputs": [
    {
     "data": {
      "text/plain": [
       "([2], [])"
      ]
     },
     "execution_count": 197,
     "metadata": {},
     "output_type": "execute_result"
    },
    {
     "data": {
      "text/plain": [
       "([2, 3], [])"
      ]
     },
     "execution_count": 197,
     "metadata": {},
     "output_type": "execute_result"
    },
    {
     "data": {
      "text/plain": [
       "([2, 3], [False])"
      ]
     },
     "execution_count": 197,
     "metadata": {},
     "output_type": "execute_result"
    }
   ],
   "source": [
    "g = sequence_of(one_or_more(which(is_number)))\n",
    "g([])\n",
    "g(['a'])\n",
    "g([2])\n",
    "g([2, 3])\n",
    "g([2, 3, False])"
   ]
  },
  {
   "cell_type": "code",
   "execution_count": 198,
   "metadata": {},
   "outputs": [
    {
     "data": {
      "text/plain": [
       "(['a', 2], [])"
      ]
     },
     "execution_count": 198,
     "metadata": {},
     "output_type": "execute_result"
    },
    {
     "data": {
      "text/plain": [
       "(['a', 2, 3], [])"
      ]
     },
     "execution_count": 198,
     "metadata": {},
     "output_type": "execute_result"
    },
    {
     "data": {
      "text/plain": [
       "(['a', 2], ['b', 3])"
      ]
     },
     "execution_count": 198,
     "metadata": {},
     "output_type": "execute_result"
    },
    {
     "data": {
      "text/plain": [
       "(['a', 2, 3], [False])"
      ]
     },
     "execution_count": 198,
     "metadata": {},
     "output_type": "execute_result"
    },
    {
     "data": {
      "text/plain": [
       "(['a', 2, 3], [False, 'more'])"
      ]
     },
     "execution_count": 198,
     "metadata": {},
     "output_type": "execute_result"
    }
   ],
   "source": [
    "g = sequence_of(one(which(is_string)), one_or_more(which(is_number)))\n",
    "g([])\n",
    "g(['a'])\n",
    "g([2])\n",
    "g(['a', 'b'])\n",
    "g(['a', 2])\n",
    "g(['a', 2, 3])\n",
    "g(['a', 2, 'b', 3])\n",
    "g(['a', 2, 3, False])\n",
    "g(['a', 2, 3, False, 'more'])"
   ]
  },
  {
   "cell_type": "markdown",
   "metadata": {},
   "source": [
    "# Parser Grammar"
   ]
  },
  {
   "cell_type": "code",
   "execution_count": 199,
   "metadata": {},
   "outputs": [],
   "source": [
    "def take_while(f: Unary) -> Unary:\n",
    "  def g(seq):\n",
    "    acc = []\n",
    "    while seq and (x := f(seq[0])):\n",
    "      acc.append(x)\n",
    "    return acc\n",
    "  return g"
   ]
  },
  {
   "cell_type": "code",
   "execution_count": 209,
   "metadata": {},
   "outputs": [
    {
     "data": {
      "text/plain": [
       "123"
      ]
     },
     "execution_count": 209,
     "metadata": {},
     "output_type": "execute_result"
    },
    {
     "data": {
      "text/plain": [
       "1037629354146168955"
      ]
     },
     "execution_count": 209,
     "metadata": {},
     "output_type": "execute_result"
    },
    {
     "data": {
      "text/plain": [
       "1"
      ]
     },
     "execution_count": 209,
     "metadata": {},
     "output_type": "execute_result"
    },
    {
     "data": {
      "text/plain": [
       "0"
      ]
     },
     "execution_count": 209,
     "metadata": {},
     "output_type": "execute_result"
    },
    {
     "data": {
      "text/plain": [
       "3959704358772763333"
      ]
     },
     "execution_count": 209,
     "metadata": {},
     "output_type": "execute_result"
    },
    {
     "data": {
      "text/plain": [
       "89209573381734311"
      ]
     },
     "execution_count": 209,
     "metadata": {},
     "output_type": "execute_result"
    },
    {
     "data": {
      "text/plain": [
       "4021535800558359905"
      ]
     },
     "execution_count": 209,
     "metadata": {},
     "output_type": "execute_result"
    },
    {
     "data": {
      "text/plain": [
       "1"
      ]
     },
     "execution_count": 209,
     "metadata": {},
     "output_type": "execute_result"
    },
    {
     "data": {
      "text/plain": [
       "5882399599101153001"
      ]
     },
     "execution_count": 209,
     "metadata": {},
     "output_type": "execute_result"
    },
    {
     "data": {
      "text/plain": [
       "5809244287076430157"
      ]
     },
     "execution_count": 209,
     "metadata": {},
     "output_type": "execute_result"
    }
   ],
   "source": [
    "def hash_deep(obj):\n",
    "  def mix(a, b):\n",
    "    a = a - 1\n",
    "    if a < 0:\n",
    "      a = - a\n",
    "    b = b - 1\n",
    "    if b < 0:\n",
    "      b = - b\n",
    "    return a ^ b\n",
    "  def hash_deep_seq(obj):\n",
    "    h = len(obj).__hash__()\n",
    "    for e in obj:\n",
    "      h = mix(hash_deep(e), h)\n",
    "    return h\n",
    "  if f := obj.__hash__:\n",
    "    return f()\n",
    "  h = obj.__class__.__name__.__hash__()\n",
    "  if isinstance(obj, (list, tuple)):\n",
    "    return mix(h, hash_deep_seq(obj))\n",
    "  if isinstance(obj, (dict)):\n",
    "    return mix(h, hash_deep_seq(obj))\n",
    "  return -1\n",
    "\n",
    "hash_deep(123)\n",
    "hash_deep(123.45)\n",
    "hash_deep(True)\n",
    "hash_deep(False)\n",
    "hash_deep([])\n",
    "hash_deep('a')\n",
    "hash_deep(['a'])\n",
    "hash_deep((1))\n",
    "hash_deep({})\n",
    "hash_deep({\"a\": 1})\n",
    "\n",
    "def dict_deep():\n",
    "  d = {}\n",
    "\n",
    "  def d_get(k):\n",
    "    h = hash_deep(k)\n",
    "    if bucket := d.get(h):\n",
    "      for e in bucket:\n",
    "        if e[0] == k:\n",
    "          return e[1]\n",
    "    return None\n",
    "\n",
    "  def d_set(k, v):\n",
    "    h = hash_deep(k)\n",
    "    if not (bucket := d.get(h)):\n",
    "      d[h] = bucket = []\n",
    "    for e in bucket:\n",
    "      if e[0] == k:\n",
    "        e[1] = v\n",
    "        return\n",
    "    bucket.append([k, v])\n",
    "\n",
    "  def g(k, *v):\n",
    "    if v:\n",
    "      d_set(k, v[0])\n",
    "    else:\n",
    "      return d_get(k)\n",
    "  return g\n"
   ]
  },
  {
   "cell_type": "code",
   "execution_count": 215,
   "metadata": {},
   "outputs": [],
   "source": [
    "def eat(rx: str):\n",
    "  p = re.compile(rx)\n",
    "  return lambda s: re.sub(p, '', s)\n",
    "\n",
    "def lexeme(pat: str, post = at(0)):\n",
    "  post = post or (lambda m: m[0])\n",
    "  rx = re.compile(pat)\n",
    "  ws = eat(r'^\\s+')\n",
    "  def g(input):\n",
    "    input = ws(input)\n",
    "    if m := re.match(rx, input):\n",
    "      return (post(m), input[len(m[0]):])\n",
    "  return g\n",
    "\n",
    "def cache(p):\n",
    "  d = {}\n",
    "  def g(input):\n",
    "    if v := d.get(input):\n",
    "      logging.debug('cached : %s => %s', repr(input), repr(v[0]))\n",
    "      return v[0]\n",
    "    v = p(input)\n",
    "    d[input] = (v,)\n",
    "    return v\n",
    "  return g\n"
   ]
  },
  {
   "cell_type": "code",
   "execution_count": 217,
   "metadata": {},
   "outputs": [],
   "source": [
    "def grammar_parser():\n",
    "  env = {}\n",
    "  def _(id):\n",
    "    # nonlocal env\n",
    "    # logging.debug('_(%s)', repr(id))\n",
    "    return lambda *args: env[id](*args)\n",
    "\n",
    "  def action(p: Parser, action: Unary) -> Parser:\n",
    "    def g(input: Input):\n",
    "      if result := p(input):\n",
    "        value = action(result[0])\n",
    "        return (value, result[1])\n",
    "    return g\n",
    "\n",
    "  def definition(id, p, act=None):\n",
    "    log = partial(logging.debug, '  # %s')\n",
    "    # p = trace(id, log, p)\n",
    "    p = cache(p)\n",
    "    a = None\n",
    "    if act is True:\n",
    "      a = lambda x: (id, x)\n",
    "    elif isinstance(act, str):\n",
    "      a = lambda x: (act, x)\n",
    "    elif act:\n",
    "      a = act\n",
    "    if a:\n",
    "      p = action(p, a)\n",
    "    env[id] = p\n",
    "\n",
    "  definition('int',     lexeme(r'[-+]?\\d+',               lambda m: ('int', int(m[0]))))\n",
    "  definition('str'   ,  lexeme(r'\"(\\\\\"|\\\\?[^\"]+)*\"',      lambda m: ('str', eval(m[0]))))\n",
    "  definition('re',      lexeme(r'/((\\\\/|(\\\\?[^/]+))*)/',  lambda m: ('re', re.compile(m[1]))))\n",
    "  definition('name',    lexeme(r'[a-zA-Z][a-zA-Z0-9_]*',  lambda m: ('name', m[0])))\n",
    "  definition('terminal', alternation(_(\"str\"), _(\"re\"), _('int')))\n",
    "  definition('non-terminal', _('name'))\n",
    "  definition('pattern', alternation(_('non-terminal'), _('terminal')))\n",
    "  definition('sequence_of',\n",
    "    sequence_of(one_or_more(_('pattern'))))\n",
    "  definition('alternation',\n",
    "    sequence_of(one(_('sequence_of')), one(lexeme(r'\\|')), one(_('production'))),\n",
    "    lambda x: ('alternation', x[0], x[2]))\n",
    "  definition('production',\n",
    "    alternation(_('alternation'), _('sequence_of')))\n",
    "  definition('definition',\n",
    "    sequence_of(one(_('name')), one(lexeme(r\"=\")), one(_('production')), one(lexeme(r';'))),\n",
    "    lambda x: ('definition', x[0], x[2]))\n",
    "  definition('grammar',\n",
    "    sequence_of(one_or_more(_('definition'))))\n",
    "\n",
    "  def g(input, start='grammar'):\n",
    "    return env[start](input)\n",
    "  return g\n",
    "\n",
    "gram = grammar_parser()"
   ]
  },
  {
   "cell_type": "code",
   "execution_count": 218,
   "metadata": {},
   "outputs": [
    {
     "name": "stderr",
     "output_type": "stream",
     "text": [
      "DEBUG:root:============================================\n",
      "\n",
      "ic| input: '\"asdf\"'\n",
      "ic| name: 'pattern'\n",
      "ic| input: '\"asdf\"'\n",
      "ic| result: (('str', 'asdf'), '')\n",
      "DEBUG:root:============================================\n",
      "\n",
      "ic| input: '  a = b c;'\n",
      "DEBUG:root:cached : ' b c;' => ([('name', 'b'), ('name', 'c')], ';')\n",
      "ic| name: 'definition'\n",
      "ic| input: '  a = b c;'\n",
      "ic| result: (('definition', ('name', 'a'), [('name', 'b'), ('name', 'c')]), '')\n",
      "DEBUG:root:============================================\n",
      "\n",
      "ic| input: 'a =b c|d;'\n",
      "DEBUG:root:cached : ';' => None\n",
      "DEBUG:root:cached : 'd;' => ([('name', 'd')], ';')\n",
      "ic| name: 'definition'\n",
      "ic| input: 'a =b c|d;'\n",
      "ic| result: (('definition',\n",
      "              ('name', 'a'),\n",
      "              ('alternation', [('name', 'b'), ('name', 'c')], [('name', 'd')])),\n",
      "             '')\n",
      "DEBUG:root:============================================\n",
      "\n",
      "ic| input: 'a = b c | d | e f;'\n",
      "DEBUG:root:cached : ';' => None\n",
      "DEBUG:root:cached : ' e f;' => ([('name', 'e'), ('name', 'f')], ';')\n",
      "ic| name: 'definition'\n",
      "ic| input: 'a = b c | d | e f;'\n",
      "ic| result: (('definition',\n",
      "              ('name', 'a'),\n",
      "              ('alternation',\n",
      "               [('name', 'b'), ('name', 'c')],\n",
      "               ('alternation', [('name', 'd')], [('name', 'e'), ('name', 'f')]))),\n",
      "             '')\n",
      "DEBUG:root:============================================\n",
      "\n",
      "ic| input: 'a = \"foo\";'\n",
      "DEBUG:root:cached : ';' => None\n",
      "DEBUG:root:cached : ' \"foo\";' => ([('str', 'foo')], ';')\n",
      "ic| name: 'definition'\n",
      "ic| input: 'a = \"foo\";'\n",
      "ic| result: (('definition', ('name', 'a'), [('str', 'foo')]), '')\n"
     ]
    }
   ],
   "source": [
    "def test(input, name='definition'):\n",
    "  logging.debug(\"============================================\\n\")\n",
    "  ic(input)\n",
    "  result = gram(input, name)\n",
    "  ic(name)\n",
    "  ic(input)\n",
    "  ic(result)\n",
    "\n",
    "test('\"asdf\"', 'pattern')\n",
    "test('  a = b c;')\n",
    "test('a =b c|d;')\n",
    "test('a = b c | d | e f;')\n",
    "test('a = \"foo\";')"
   ]
  },
  {
   "cell_type": "code",
   "execution_count": null,
   "metadata": {},
   "outputs": [],
   "source": [
    "#################################################\n",
    "## Other\n",
    "#################################################\n",
    "\n",
    "def projection(key: Any, default: Any = None) -> Callable:\n",
    "  'Returns a function `f(a)` that returns `a.get(key, default)`.'\n",
    "  return lambda a: a.get(key, default)\n"
   ]
  },
  {
   "cell_type": "markdown",
   "metadata": {},
   "source": [
    "# Mapcat (aka Flat-Map)"
   ]
  },
  {
   "cell_type": "code",
   "execution_count": null,
   "metadata": {},
   "outputs": [],
   "source": []
  },
  {
   "cell_type": "code",
   "execution_count": null,
   "metadata": {},
   "outputs": [
    {
     "data": {
      "text/plain": [
       "['.', '.', '.', '*', '*', '*']"
      ]
     },
     "execution_count": 65,
     "metadata": {},
     "output_type": "execute_result"
    },
    {
     "data": {
      "text/plain": [
       "[4, 4, 4, 5, 5, 5, 6, 6, 6]"
      ]
     },
     "execution_count": 65,
     "metadata": {},
     "output_type": "execute_result"
    }
   ],
   "source": [
    "\n",
    "ConcatableUnary = Callable[[Any], Sequence]\n",
    "\n",
    "def mapcat(f: ConcatableUnary, xs: Sequence):\n",
    "  'Concatenate the results of `map(f, xs)`.'\n",
    "  return reduce(add, [], map(f, xs))\n",
    "\n",
    "def duplicate(n, x):\n",
    "  return [x] * n\n",
    "\n",
    "duplicate_each_3_times = partial(mapcat, partial(duplicate, 3))\n",
    "duplicate_each_3_times([\".\", \"*\"])\n",
    "duplicate_each_3_times(range(4, 7))\n"
   ]
  },
  {
   "cell_type": "markdown",
   "metadata": {},
   "source": [
    "# Manipulating Arguments"
   ]
  },
  {
   "cell_type": "code",
   "execution_count": null,
   "metadata": {},
   "outputs": [
    {
     "data": {
      "text/plain": [
       "0.6666666666666666"
      ]
     },
     "execution_count": 66,
     "metadata": {},
     "output_type": "execute_result"
    },
    {
     "data": {
      "text/plain": [
       "1.5"
      ]
     },
     "execution_count": 66,
     "metadata": {},
     "output_type": "execute_result"
    },
    {
     "data": {
      "text/plain": [
       "'StringsOfListA reversed '"
      ]
     },
     "execution_count": 66,
     "metadata": {},
     "output_type": "execute_result"
    },
    {
     "data": {
      "text/plain": [
       "(7, (5, (3, 2)))"
      ]
     },
     "execution_count": 66,
     "metadata": {},
     "output_type": "execute_result"
    }
   ],
   "source": [
    "def reverse_args(f: Callable) -> Callable:\n",
    "  def g(*args, **kwargs):\n",
    "    return f(*reversed(args), **kwargs)\n",
    "  return g\n",
    "\n",
    "def divide(x, y):\n",
    "  return x / y\n",
    "\n",
    "divide(2, 3)\n",
    "reverse_args(divide)(2, 3)\n",
    "\n",
    "reduce(reverse_args(add), \" reversed \", a_list_of_strings)\n",
    "reduce(reverse_args(conjoin), 2, [3, 5, 7])"
   ]
  }
 ],
 "metadata": {
  "kernelspec": {
   "display_name": "Python 3",
   "language": "python",
   "name": "python3"
  },
  "language_info": {
   "codemirror_mode": {
    "name": "ipython",
    "version": 3
   },
   "file_extension": ".py",
   "mimetype": "text/x-python",
   "name": "python",
   "nbconvert_exporter": "python",
   "pygments_lexer": "ipython3",
   "version": "3.11.9"
  }
 },
 "nbformat": 4,
 "nbformat_minor": 2
}
